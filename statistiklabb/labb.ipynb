{
 "cells": [
  {
   "cell_type": "code",
   "execution_count": null,
   "metadata": {},
   "outputs": [
    {
     "name": "stdout",
     "output_type": "stream",
     "text": [
      "Intercept (B0): -2.5597931351865064\n",
      "Koefficienter (B1, ...): [ 0.86871519  3.61041818 -0.75368772]\n",
      "Features:  4\n",
      "Sample size:  198\n",
      "Variance:  0.006308685487583462\n",
      "Standard deviation:  0.07942723391622965\n",
      "Regressionsrelevans:  0.9971212473210771\n",
      "F-statistik: 22398.7658956825\n",
      "P-värde for regression: 3.8879169687628355e-246\n",
      "T-values: ['-76.25702815510076', '224.55170876513836', '1382.6640099475233', '-241.40224896672075']\n",
      "P-values: ['1.3694429145865669e-146', '0.0', '0.0', '1.9192831133679723e-242']\n",
      "\n",
      "Pearson: \n",
      "Kinematic ↔ Geometric: Korrelation = 0.863, p-value = 0.000\n",
      "Kinematic ↔ Inertial: Korrelation = 0.969, p-value = 0.000\n",
      "Kinematic ↔ Observer: Korrelation = 0.103, p-value = 0.148\n",
      "Geometric ↔ Inertial: Korrelation = 0.918, p-value = 0.000\n",
      "Geometric ↔ Observer: Korrelation = 0.175, p-value = 0.014\n",
      "Inertial ↔ Observer: Korrelation = 0.122, p-value = 0.087\n",
      "\n",
      "Konfidensintervall för regressionens koefficienter:\n",
      "Intercept: (-2.626, -2.494)\n",
      "Kinematic: (0.861, 0.876)\n",
      "Geometric: (3.605, 3.616)\n",
      "Inertial: (-0.760, -0.748)\n"
     ]
    }
   ],
   "source": [
    "import numpy as np\n",
    "import pandas as pd\n",
    "from linear_regression import LinearRegression\n",
    "from scipy.stats import pearsonr\n",
    "\n",
    "data = pd.read_csv(\"Small-diameter-flow.csv\")\n",
    "\n",
    "\n",
    "X = data[[\"Kinematic\", \"Geometric\", \"Inertial\"]].values  # Oberoende variabler\n",
    "Y = data[\"Flow\"].values  # Beroende variabell\n",
    "\n",
    "# Initiera linjärregression\n",
    "lr = LinearRegression(X, Y, confidence_level=0.95)\n",
    "\n",
    "# Skriv ut statistikmåtten\n",
    "print(\"Intercept (B0):\", lr.b[0])\n",
    "print(\"Koefficienter (B1, ...):\", lr.b[1:])\n",
    "print(\"Features: \", lr.d)\n",
    "print(\"Sample size: \", lr.n)\n",
    "print(\"Variance: \", lr.sigma2)\n",
    "print(\"Standard deviation: \", lr.standard_deviation())\n",
    "print(\"Regressionsrelevans: \", lr.r_squared())\n",
    "\n",
    "# Signifikans av regressionen\n",
    "f_statistic, p_value = lr.significance_of_regression()\n",
    "print(\"F-statistik:\", f_statistic)\n",
    "print(\"P-värde for regression:\", p_value)\n",
    "\n",
    "# Signifikans av enskilda parametrar\n",
    "t_values = []\n",
    "p_values = []\n",
    "for i in range(0, lr.d):  \n",
    "    t_statistic, p_value = lr.significance_of_parameter(i)\n",
    "    t_values.append(str(t_statistic))\n",
    "    p_values.append(str(p_value))\n",
    "print(\"T-values:\", t_values)\n",
    "print(\"P-values:\", p_values)\n",
    "\n",
    "# Pearson korrelationer\n",
    "print(\"\\nPearson: \")\n",
    "print(f\"Kinematic ↔ Geometric: Korrelation = {np.corrcoef(data['Kinematic'], data['Geometric'])[0, 1]:.3f}, p-value = {pearsonr(data['Kinematic'], data['Geometric'])[1]:.3f}\")\n",
    "print(f\"Kinematic ↔ Inertial: Korrelation = {np.corrcoef(data['Kinematic'], data['Inertial'])[0, 1]:.3f}, p-value = {pearsonr(data['Kinematic'], data['Inertial'])[1]:.3f}\")\n",
    "print(f\"Kinematic ↔ Observer: Korrelation = {np.corrcoef(data['Kinematic'], data['Observer'])[0, 1]:.3f}, p-value = {pearsonr(data['Kinematic'], data['Observer'])[1]:.3f}\")\n",
    "print(f\"Geometric ↔ Inertial: Korrelation = {np.corrcoef(data['Geometric'], data['Inertial'])[0, 1]:.3f}, p-value = {pearsonr(data['Geometric'], data['Inertial'])[1]:.3f}\")\n",
    "print(f\"Geometric ↔ Observer: Korrelation = {np.corrcoef(data['Geometric'], data['Observer'])[0, 1]:.3f}, p-value = {pearsonr(data['Geometric'], data['Observer'])[1]:.3f}\")\n",
    "print(f\"Inertial ↔ Observer: Korrelation = {np.corrcoef(data['Inertial'], data['Observer'])[0, 1]:.3f}, p-value = {pearsonr(data['Inertial'], data['Observer'])[1]:.3f}\")\n",
    "\n",
    "# Konfidensintervall för intercept och koefficienter\n",
    "print(\"\\nKonfidensintervall för regressionens koefficienter:\")\n",
    "print(f\"Intercept: ({lr.confidence_interval(0)[0]:.3f}, {lr.confidence_interval(0)[1]:.3f})\")\n",
    "print(f\"Kinematic: ({lr.confidence_interval(1)[0]:.3f}, {lr.confidence_interval(1)[1]:.3f})\")\n",
    "print(f\"Geometric: ({lr.confidence_interval(2)[0]:.3f}, {lr.confidence_interval(2)[1]:.3f})\")\n",
    "print(f\"Inertial: ({lr.confidence_interval(3)[0]:.3f}, {lr.confidence_interval(3)[1]:.3f})\")"
   ]
  }
 ],
 "metadata": {
  "kernelspec": {
   "display_name": ".venv",
   "language": "python",
   "name": "python3"
  },
  "language_info": {
   "codemirror_mode": {
    "name": "ipython",
    "version": 3
   },
   "file_extension": ".py",
   "mimetype": "text/x-python",
   "name": "python",
   "nbconvert_exporter": "python",
   "pygments_lexer": "ipython3",
   "version": "3.12.6"
  }
 },
 "nbformat": 4,
 "nbformat_minor": 2
}
