{
 "cells": [
  {
   "cell_type": "code",
   "execution_count": 28,
   "metadata": {},
   "outputs": [
    {
     "name": "stdout",
     "output_type": "stream",
     "text": [
      "\n",
      "name: AriBer\n",
      "school: IT-Högskolan\n",
      "address: Ebbe Lieberathsgatan\n",
      "phone: 1-800-school\n",
      "\n"
     ]
    }
   ],
   "source": [
    "firstname = 'Ari'\n",
    "lastname = 'Ber'\n",
    "\n",
    "fullname = firstname + \"\" + lastname\n",
    "school = 'IT-Högskolan'\n",
    "address = 'Ebbe Lieberathsgatan'\n",
    "phone = '1-800-school'\n",
    "\n",
    "\n",
    "contact_details = f\"\"\"\n",
    "name: {fullname}\n",
    "school: {school}\n",
    "address: {address}\n",
    "phone: {phone}\n",
    "\"\"\"\n",
    "\n",
    "print(contact_details)"
   ]
  },
  {
   "cell_type": "code",
   "execution_count": 29,
   "metadata": {},
   "outputs": [
    {
     "name": "stdout",
     "output_type": "stream",
     "text": [
      "veckomeny\n",
      "må: chili sin carne \n",
      "\n",
      "veckomeny\n",
      "må: chili sin carne \n",
      "ti: nudlar \n",
      "\n",
      "veckomeny\n",
      "må: chili sin carne \n",
      "ti: nudlar \n",
      "on: pokebowl \n",
      "\n",
      "veckomeny\n",
      "må: chili sin carne \n",
      "ti: nudlar \n",
      "on: pokebowl \n",
      "to: pannkakor \n",
      "\n",
      "veckomeny\n",
      "må: chili sin carne \n",
      "ti: nudlar \n",
      "on: pokebowl \n",
      "to: pannkakor \n",
      "fr: tacos \n",
      "\n"
     ]
    }
   ],
   "source": [
    "bamba = (\"chili sin carne\", \"nudlar\", \"pokebowl\", \"pannkakor\", \"tacos\")\n",
    "days = (\"må\", \"ti\", \"on\", \"to\", \"fr\")\n",
    "\n",
    "menu = \"veckomeny\\n\"\n",
    "\n",
    "for day, food in zip(days,bamba):\n",
    "    menu += f\"{day}: {food} \\n\"\n",
    "\n",
    "    print(menu)"
   ]
  },
  {
   "cell_type": "code",
   "execution_count": 30,
   "metadata": {},
   "outputs": [
    {
     "ename": "SyntaxError",
     "evalue": "invalid syntax (3866891742.py, line 1)",
     "output_type": "error",
     "traceback": [
      "\u001b[1;36m  Cell \u001b[1;32mIn[30], line 1\u001b[1;36m\u001b[0m\n\u001b[1;33m    quote = '!false - it''s '''* ******* ******''\u001b[0m\n\u001b[1;37m                                 ^\u001b[0m\n\u001b[1;31mSyntaxError\u001b[0m\u001b[1;31m:\u001b[0m invalid syntax\n"
     ]
    }
   ],
   "source": []
  }
 ],
 "metadata": {
  "kernelspec": {
   "display_name": ".venv",
   "language": "python",
   "name": "python3"
  },
  "language_info": {
   "codemirror_mode": {
    "name": "ipython",
    "version": 3
   },
   "file_extension": ".py",
   "mimetype": "text/x-python",
   "name": "python",
   "nbconvert_exporter": "python",
   "pygments_lexer": "ipython3",
   "version": "3.12.6"
  }
 },
 "nbformat": 4,
 "nbformat_minor": 2
}
