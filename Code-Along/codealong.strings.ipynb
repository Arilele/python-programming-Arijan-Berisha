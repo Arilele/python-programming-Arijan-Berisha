{
 "cells": [
  {
   "cell_type": "code",
   "execution_count": 28,
   "metadata": {},
   "outputs": [
    {
     "name": "stdout",
     "output_type": "stream",
     "text": [
      "\n",
      "name: AriBer\n",
      "school: IT-Högskolan\n",
      "address: Ebbe Lieberathsgatan\n",
      "phone: 1-800-school\n",
      "\n"
     ]
    }
   ],
   "source": [
    "firstname = 'Ari'\n",
    "lastname = 'Ber'\n",
    "\n",
    "fullname = firstname + \"\" + lastname\n",
    "school = 'IT-Högskolan'\n",
    "address = 'Ebbe Lieberathsgatan'\n",
    "phone = '1-800-school'\n",
    "\n",
    "\n",
    "contact_details = f\"\"\"\n",
    "name: {fullname}\n",
    "school: {school}\n",
    "address: {address}\n",
    "phone: {phone}\n",
    "\"\"\"\n",
    "\n",
    "print(contact_details)"
   ]
  },
  {
   "cell_type": "code",
   "execution_count": 1,
   "metadata": {},
   "outputs": [
    {
     "name": "stdout",
     "output_type": "stream",
     "text": [
      "veckomeny\n",
      "må: chili sin carne \n",
      "\n",
      "veckomeny\n",
      "må: chili sin carne \n",
      "ti: nudlar \n",
      "\n",
      "veckomeny\n",
      "må: chili sin carne \n",
      "ti: nudlar \n",
      "on: pokebowl \n",
      "\n",
      "veckomeny\n",
      "må: chili sin carne \n",
      "ti: nudlar \n",
      "on: pokebowl \n",
      "to: pannkakor \n",
      "\n",
      "veckomeny\n",
      "må: chili sin carne \n",
      "ti: nudlar \n",
      "on: pokebowl \n",
      "to: pannkakor \n",
      "fr: tacos \n",
      "\n"
     ]
    }
   ],
   "source": [
    "bamba = (\"chili sin carne\", \"nudlar\", \"pokebowl\", \"pannkakor\", \"tacos\")\n",
    "days = (\"må\", \"ti\", \"on\", \"to\", \"fr\")\n",
    "\n",
    "menu = \"veckomeny\\n\"\n",
    "\n",
    "for day, food in zip(days,bamba):\n",
    "    menu += f\"{day}: {food} \\n\"\n",
    "\n",
    "    print(menu)"
   ]
  },
  {
   "cell_type": "code",
   "execution_count": null,
   "metadata": {},
   "outputs": [],
   "source": [
    "nn"
   ]
  }
 ],
 "metadata": {
  "kernelspec": {
   "display_name": ".venv",
   "language": "python",
   "name": "python3"
  },
  "language_info": {
   "codemirror_mode": {
    "name": "ipython",
    "version": 3
   },
   "file_extension": ".py",
   "mimetype": "text/x-python",
   "name": "python",
   "nbconvert_exporter": "python",
   "pygments_lexer": "ipython3",
   "version": "3.12.6"
  }
 },
 "nbformat": 4,
 "nbformat_minor": 2
}
