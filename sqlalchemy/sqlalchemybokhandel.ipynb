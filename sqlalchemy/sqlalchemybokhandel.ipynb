{
 "cells": [
  {
   "cell_type": "code",
   "execution_count": 1,
   "id": "aa540f33",
   "metadata": {},
   "outputs": [
    {
     "name": "stdout",
     "output_type": "stream",
     "text": [
      "Connecting to database using URL string:\n",
      "mssql+pyodbc://?odbc_connect=DRIVER=ODBC+Driver+18+for+SQL+Server;SERVER=localhost;DATABASE=ArijanBerishaDB;Trusted_Connection=yes;TrustServerCertificate=yes \n",
      "\n",
      "Successfully connected to ArijanBerishaDB!\n",
      "\n",
      "\n",
      "Sökresultat:\n",
      "Attack on Titan Vol. 1 (ISBN: 9781612620244) - 105.00 kr - Comics Heaven: 6 st\n",
      "Attack on Titan Vol. 2 (ISBN: 9781612620251) - 105.00 kr - Comics Heaven: 4 st\n"
     ]
    }
   ],
   "source": [
    "from sqlalchemy import create_engine, text\n",
    "from sqlalchemy.engine import URL\n",
    "from urllib.parse import unquote\n",
    "\n",
    "# Parametrar för anslutning\n",
    "server_name = \"localhost\"\n",
    "database_name = \"ArijanBerishaDB\"\n",
    "connection_string = (\n",
    "    f\"DRIVER=ODBC Driver 18 for SQL Server;\"\n",
    "    f\"SERVER={server_name};\"\n",
    "    f\"DATABASE={database_name};\"\n",
    "    f\"Trusted_Connection=yes;\"\n",
    "    f\"TrustServerCertificate=yes\"\n",
    ")\n",
    "\n",
    "# Skapa SQLAlchemy URL\n",
    "url_string = URL.create(\"mssql+pyodbc\", query={\"odbc_connect\": connection_string})\n",
    "\n",
    "# Debug: visa anslutningssträngen\n",
    "print('Connecting to database using URL string:')\n",
    "unquoted_url = unquote(str(url_string))\n",
    "print(unquoted_url, '\\n')\n",
    "\n",
    "# Anslut och kör sökning\n",
    "try:\n",
    "    engine = create_engine(url_string)\n",
    "    with engine.connect() as connection:\n",
    "        print(f'Successfully connected to {database_name}!\\n')\n",
    "\n",
    "        # Fråga användaren efter söktermen\n",
    "        sokterm = input(\"Ange manga-titel att söka efter: \")\n",
    "\n",
    "        query = text(\"\"\"\n",
    "            SELECT b.ISBN13, b.Titel, b.Pris, bu.Namn AS Butik, ls.Antal\n",
    "            FROM Bocker b\n",
    "            JOIN LagerSaldo ls ON b.ISBN13 = ls.ISBN\n",
    "            JOIN Butiker bu ON ls.ButikID = bu.ID\n",
    "            WHERE b.Titel LIKE :soktitel\n",
    "            ORDER BY b.Titel, bu.Namn;\n",
    "        \"\"\")\n",
    "\n",
    "        result = connection.execute(query, {\"soktitel\": f\"%{sokterm}%\"})\n",
    "        rows = result.fetchall()\n",
    "\n",
    "        if not rows:\n",
    "            print(\"\\nInga böcker hittades som matchar sökningen.\")\n",
    "        else:\n",
    "            print(\"\\nSökresultat:\")\n",
    "            for row in rows:\n",
    "                print(f\"{row.Titel} (ISBN: {row.ISBN13}) - {row.Pris} kr - {row.Butik}: {row.Antal} st\")\n",
    "\n",
    "except Exception as e:\n",
    "    print('\\nError while connecting to database or running query:')\n",
    "    print(e)\n",
    "\n"
   ]
  }
 ],
 "metadata": {
  "kernelspec": {
   "display_name": ".venv",
   "language": "python",
   "name": "python3"
  },
  "language_info": {
   "codemirror_mode": {
    "name": "ipython",
    "version": 3
   },
   "file_extension": ".py",
   "mimetype": "text/x-python",
   "name": "python",
   "nbconvert_exporter": "python",
   "pygments_lexer": "ipython3",
   "version": "3.12.6"
  }
 },
 "nbformat": 4,
 "nbformat_minor": 5
}
