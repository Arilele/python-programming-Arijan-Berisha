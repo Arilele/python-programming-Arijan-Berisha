{
 "cells": [
  {
   "cell_type": "code",
   "execution_count": 26,
   "metadata": {},
   "outputs": [
    {
     "name": "stdout",
     "output_type": "stream",
     "text": [
      "The hypotenuse of the triangle is: 5.0\n"
     ]
    }
   ],
   "source": [
    "import math\n",
    "\n",
    "a = 3**2\n",
    "b = 4**2\n",
    "\n",
    "c = math.sqrt( a + b )\n",
    "\n",
    "print(f'The hypotenuse of the triangle is: {c}')"
   ]
  },
  {
   "cell_type": "code",
   "execution_count": 32,
   "metadata": {},
   "outputs": [
    {
     "name": "stdout",
     "output_type": "stream",
     "text": [
      "The length of the other cathetus is:  4.9\n"
     ]
    }
   ],
   "source": [
    "import math\n",
    "\n",
    "a = 5**2\n",
    "c = 7**2\n",
    "\n",
    "b = math.sqrt( c - a )\n",
    "\n",
    "print(f'The length of the other cathetus is: {b: .1f}')"
   ]
  }
 ],
 "metadata": {
  "kernelspec": {
   "display_name": "Python 3",
   "language": "python",
   "name": "python3"
  },
  "language_info": {
   "codemirror_mode": {
    "name": "ipython",
    "version": 3
   },
   "file_extension": ".py",
   "mimetype": "text/x-python",
   "name": "python",
   "nbconvert_exporter": "python",
   "pygments_lexer": "ipython3",
   "version": "3.12.6"
  }
 },
 "nbformat": 4,
 "nbformat_minor": 2
}
