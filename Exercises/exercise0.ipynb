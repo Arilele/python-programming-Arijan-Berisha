{
 "cells": [
  {
   "cell_type": "code",
   "execution_count": 5,
   "metadata": {},
   "outputs": [
    {
     "name": "stdout",
     "output_type": "stream",
     "text": [
      "The hypotenuse of the triangle is: 5.0\n"
     ]
    }
   ],
   "source": [
    "import math\n",
    "\n",
    "a = 3**2\n",
    "b = 4**2\n",
    "\n",
    "c = math.sqrt( a + b )\n",
    "\n",
    "print(f'The hypotenuse of the triangle is: {c}')"
   ]
  },
  {
   "cell_type": "code",
   "execution_count": 6,
   "metadata": {},
   "outputs": [
    {
     "name": "stdout",
     "output_type": "stream",
     "text": [
      "The length of the other cathetus is:  4.9\n"
     ]
    }
   ],
   "source": [
    "import math\n",
    "\n",
    "a = 5**2\n",
    "c = 7**2\n",
    "\n",
    "b = math.sqrt( c - a )\n",
    "\n",
    "print(f'The length of the other cathetus is: {b: .1f}')"
   ]
  },
  {
   "cell_type": "code",
   "execution_count": 7,
   "metadata": {},
   "outputs": [
    {
     "name": "stdout",
     "output_type": "stream",
     "text": [
      "the accuracy of this model is: 82%\n"
     ]
    }
   ],
   "source": [
    "total_predictions = 365\n",
    "\n",
    "correct_predictions = 300\n",
    "\n",
    "accuracy = correct_predictions / total_predictions\n",
    "\n",
    "print(f'the accuracy of this model is:{accuracy: .0%}')\n",
    "\n"
   ]
  },
  {
   "cell_type": "code",
   "execution_count": 8,
   "metadata": {},
   "outputs": [
    {
     "name": "stdout",
     "output_type": "stream",
     "text": [
      "the accuracy of this model is: 98.7%\n"
     ]
    }
   ],
   "source": [
    "TP = 2\n",
    "\n",
    "TN = 985\n",
    "\n",
    "FP = 2\n",
    "\n",
    "FN = 11\n",
    "\n",
    "accuracy = (TP + TN) / (TP + TN + FP + FN)\n",
    "\n",
    "print(f'the accuracy of this model is:{accuracy: .1%}')\n"
   ]
  },
  {
   "cell_type": "code",
   "execution_count": 170,
   "metadata": {},
   "outputs": [
    {
     "name": "stdout",
     "output_type": "stream",
     "text": [
      "k = 0.75, m = 1.0, so the equation for the slope is y = 0.75x + 1.0\n"
     ]
    }
   ],
   "source": [
    "pointA = [4,4]\n",
    "pointB = [0,1]\n",
    "\n",
    "\n",
    "k = (pointB[1] - pointA[1]) / (pointB[0] - pointA[0])\n",
    "\n",
    "m = (pointB[1] - k * pointB[0])\n",
    "\n",
    "print(f\"k = {k}, m = {m}, so the equation for the slope is y = {k}x + {m}\")"
   ]
  },
  {
   "cell_type": "code",
   "execution_count": 187,
   "metadata": {},
   "outputs": [
    {
     "name": "stdout",
     "output_type": "stream",
     "text": [
      "distance between points [3, 5] and [-2, 4] is  5.1 u.\n"
     ]
    }
   ],
   "source": [
    "import math\n",
    "pointA = [3, 5]\n",
    "pointB =  [-2, 4]\n",
    "\n",
    "distance = math.sqrt((pointA[0] - pointB[0])**2 + (pointA [1] - pointB[1])**2)\n",
    "print(f\"distance between points {pointA} and {pointB} is {distance: .2} l.u.\")"
   ]
  },
  {
   "cell_type": "code",
   "execution_count": 191,
   "metadata": {},
   "outputs": [
    {
     "name": "stdout",
     "output_type": "stream",
     "text": [
      "The distance is around  4.12 l.u.\n"
     ]
    }
   ],
   "source": [
    "import math\n",
    "pointA = [2,1,4]\n",
    "pointB = [3,1,0]\n",
    "\n",
    "distance = math.sqrt((pointA[0] - pointB[0])**2 + (pointA[1] - pointB[1])**2 + (pointA[2] - pointB[2])**2)\n",
    "print(f\"The distance is around {distance: .3} l.u.\")"
   ]
  }
 ],
 "metadata": {
  "kernelspec": {
   "display_name": "Python 3",
   "language": "python",
   "name": "python3"
  },
  "language_info": {
   "codemirror_mode": {
    "name": "ipython",
    "version": 3
   },
   "file_extension": ".py",
   "mimetype": "text/x-python",
   "name": "python",
   "nbconvert_exporter": "python",
   "pygments_lexer": "ipython3",
   "version": "3.12.6"
  }
 },
 "nbformat": 4,
 "nbformat_minor": 2
}
