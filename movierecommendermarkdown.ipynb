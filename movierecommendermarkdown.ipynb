{
 "cells": [
  {
   "cell_type": "markdown",
   "id": "5bc9c61b",
   "metadata": {},
   "source": [
    "1. Datainläsning och förbearbetning.\n",
    "Först så laddar jag in filmmetadata, taggar och betyg\n",
    "\n",
    "kombinerade alla taggar för varje film till en enda sträng\n",
    "\n",
    "Beräknar genomsnittliga betyg för varje film\n",
    "\n",
    "Tar ihop all data till en enda DataFrame\n",
    "\n",
    "Kombinerade genrer och taggar till en enda feature-sträng\n",
    "\n",
    "\n",
    "2. Feature-engineering.\n",
    "Jag använde TF-IDF (Term Frequency-Inverse Document Frequency) för att omvandla textfeatures till numeriska vektorer\n",
    "\n",
    "Bearbetar både genrer och taggar för att skapa en feature-matris\n",
    "\n",
    "\n",
    "3. Likhetsberäkning\n",
    "Använder K-Nearest neighbor (KNN)-algoritm med cosinuslikhet som mått\n",
    "\n",
    "Hittar 6 närmaste grannar (inklusive den efterfrågade filmen själv)\n",
    "\n",
    "Returnerar de 5 mest liknande filmerna (exklusive den efterfrågade)\n",
    "\n",
    "4. Rekommendationsgenerering\n",
    "\n",
    "Ger valmeny när flera filmer matchar söktermen\n",
    "\n",
    "Visar rekommendationer med genrer och genomsnittliga betyg\n",
    "\n",
    "Minnesoptimering: Laddar endast nödvändiga kolumner från betygsdata\n",
    "\n",
    "\n",
    "Användning\n",
    "Kör skriptet: python movierecommender.py\n",
    "\n",
    "Ange en filmtitel när du uppmanas till detta\n",
    "\n",
    "Om flera matchningar finns, välj film från listan genom att ange nummer beroende på den filmen du menade.\n",
    "\n",
    "Visa de 5 bästa rekommenderade liknande filmerna\n",
    "\n",
    "Ange quit för att avsluta programmet\n",
    "\n",
    "\n",
    "extra:\n",
    "min python kunde ej hitta min fil när den var i folder visste ej hur man skulle fixa."
   ]
  }
 ],
 "metadata": {
  "language_info": {
   "name": "python"
  }
 },
 "nbformat": 4,
 "nbformat_minor": 5
}
